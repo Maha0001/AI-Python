{
 "cells": [
  {
   "cell_type": "markdown",
   "id": "342d50ca-538d-4f91-a670-528d74be04aa",
   "metadata": {},
   "source": [
    "# Programming\n",
    "**A set of instructions to perform a task**\n",
    "\n",
    "Fry the perfect egg:\n",
    "\n",
    "1. Crack an egg into a small bowl making sure there are no shells on it. Set aside.\n",
    "2. Add butter, or other fat, a non-stick pan on medium-high heat for a minute.\n",
    "3. Add egg into pan, Cook for three to four minutes.\n",
    "4. Serve, Add salt and pepper to your taste\n",
    "\n",
    "**Programming gives you an edge**\n",
    "\n",
    "- Automate repetitive tasks\n",
    "- Analyze lots of data\n",
    "- Build, Improve and use of AI models\n",
    "\n",
    "**Programming + AI = Superpowers!**\n",
    "\n",
    "Programming will let you unleash the true power of current AI tools\n",
    "\n",
    "Sum two numbers and display the result:"
   ]
  },
  {
   "cell_type": "code",
   "execution_count": 1,
   "id": "8b23dc91-f555-4eaa-81f4-6b2811a47c49",
   "metadata": {},
   "outputs": [
    {
     "name": "stdout",
     "output_type": "stream",
     "text": [
      "42\n"
     ]
    }
   ],
   "source": [
    "# values for num1 and num2\n",
    "num1 = 37\n",
    "num2 = 5\n",
    "\n",
    "# calculate the sum\n",
    "sum = num1 + num2\n",
    "\n",
    "# Display the result\n",
    "print(sum)"
   ]
  },
  {
   "cell_type": "code",
   "execution_count": 3,
   "id": "ec7a0027-1742-45a1-b383-341d0b5b2941",
   "metadata": {},
   "outputs": [
    {
     "name": "stdout",
     "output_type": "stream",
     "text": [
      "Hello, World!\n"
     ]
    }
   ],
   "source": [
    "print(\"Hello, World!\")"
   ]
  },
  {
   "cell_type": "code",
   "execution_count": 8,
   "id": "544c8ab9-941b-435e-a859-8e9a01c22feb",
   "metadata": {},
   "outputs": [],
   "source": [
    "import os\n",
    "import google.generativeai as genai\n",
    "\n",
    "api_key = os.environ.get(\"GOOGLE_API_KEY\")\n",
    "genai.configure(api_key=api_key)\n",
    "model = genai.GenerativeModel(\"gemini-1.5-pro\")"
   ]
  },
  {
   "cell_type": "code",
   "execution_count": 10,
   "id": "36e2a65b-27e1-49e9-85c5-bb8ca3517de6",
   "metadata": {},
   "outputs": [
    {
     "name": "stdout",
     "output_type": "stream",
     "text": [
      "```python\n",
      "print(\"Hello, Maha!\") \n",
      "```\n"
     ]
    }
   ],
   "source": [
    "prompt = f\"\"\"\n",
    "Modify the code below to have it say hello to me.\n",
    "print(\"Hello, World!\")\n",
    "My name is Maha\n",
    "\"\"\"\n",
    "response = model.generate_content(prompt)\n",
    "print(response.text)"
   ]
  },
  {
   "cell_type": "code",
   "execution_count": 11,
   "id": "88ffcdbd-a3e8-4844-b769-a523f063d2ea",
   "metadata": {},
   "outputs": [
    {
     "name": "stdout",
     "output_type": "stream",
     "text": [
      "Hello, Maha!\n"
     ]
    }
   ],
   "source": [
    "print(\"Hello, Maha!\") "
   ]
  },
  {
   "cell_type": "markdown",
   "id": "b568b114-8517-4a50-a76e-fc759aa42b67",
   "metadata": {},
   "source": [
    "**Making mistakes is no big deal**"
   ]
  },
  {
   "cell_type": "code",
   "execution_count": 12,
   "id": "310d10df-83b3-488d-a5c5-90222c1a6c60",
   "metadata": {},
   "outputs": [
    {
     "ename": "SyntaxError",
     "evalue": "unterminated string literal (detected at line 1) (3201687459.py, line 1)",
     "output_type": "error",
     "traceback": [
      "\u001b[0;36m  Cell \u001b[0;32mIn[12], line 1\u001b[0;36m\u001b[0m\n\u001b[0;31m    print(\"Hello, Maha!)\u001b[0m\n\u001b[0m          ^\u001b[0m\n\u001b[0;31mSyntaxError\u001b[0m\u001b[0;31m:\u001b[0m unterminated string literal (detected at line 1)\n"
     ]
    }
   ],
   "source": [
    "print(\"Hello, Maha!)"
   ]
  },
  {
   "cell_type": "code",
   "execution_count": 13,
   "id": "b720e1d6-16cd-499a-85d7-5008015e1a27",
   "metadata": {},
   "outputs": [
    {
     "name": "stdout",
     "output_type": "stream",
     "text": [
      "The error is a syntax error caused by a mismatched string delimiter. You've opened the string with a double quote (`\"`) but attempted to close it with a parenthesis `)`.  String literals in Python must be enclosed in matching quotes, either single quotes (`'`) or double quotes (`\"`).\n",
      "\n",
      "**How to fix it:**\n",
      "\n",
      "Change the closing parenthesis to a double quote:\n",
      "\n",
      "```python\n",
      "print(\"Hello, Maha!\") \n",
      "```\n",
      "\n",
      "Alternatively, you could use single quotes:\n",
      "\n",
      "```python\n",
      "print('Hello, Maha!')\n",
      "```\n",
      "\n",
      "Either way will produce the correct output:\n",
      "\n",
      "```\n",
      "Hello, Maha!\n",
      "```\n",
      "\n"
     ]
    }
   ],
   "source": [
    "prompt = f\"\"\" \n",
    "What is wrong with this code, and how do I fix it?\n",
    "print(\"Hello, Maha!)\n",
    "\"\"\"\n",
    "response = model.generate_content(prompt)\n",
    "print(response.text)"
   ]
  },
  {
   "cell_type": "code",
   "execution_count": 14,
   "id": "eea23043-b8c6-439f-b48b-d7e42e705276",
   "metadata": {},
   "outputs": [
    {
     "name": "stdout",
     "output_type": "stream",
     "text": [
      "Hello, Maha!\n"
     ]
    }
   ],
   "source": [
    "print(\"Hello, Maha!\") "
   ]
  },
  {
   "cell_type": "code",
   "execution_count": 17,
   "id": "26970d9e-22c8-4d67-9b2d-7587c0a33679",
   "metadata": {},
   "outputs": [
    {
     "name": "stdout",
     "output_type": "stream",
     "text": [
      "My Favorite Color: Blue\n"
     ]
    }
   ],
   "source": [
    "print(\"My Favorite Color:\", \"Blue\")"
   ]
  },
  {
   "cell_type": "code",
   "execution_count": 18,
   "id": "1360f2d5-96e9-48fb-9654-9b8b09931d92",
   "metadata": {},
   "outputs": [
    {
     "ename": "SyntaxError",
     "evalue": "invalid syntax (2841005050.py, line 3)",
     "output_type": "error",
     "traceback": [
      "\u001b[0;36m  Cell \u001b[0;32mIn[18], line 3\u001b[0;36m\u001b[0m\n\u001b[0;31m    num2 =\u001b[0m\n\u001b[0m           ^\u001b[0m\n\u001b[0;31mSyntaxError\u001b[0m\u001b[0;31m:\u001b[0m invalid syntax\n"
     ]
    }
   ],
   "source": [
    "# values for num1 and num2\n",
    "num1 = 37\n",
    "num2 = \n",
    "\n",
    "# calculate the sum\n",
    "sum = num1 + num2\n",
    "\n",
    "# Display the result\n",
    "print(sum)"
   ]
  },
  {
   "cell_type": "code",
   "execution_count": 19,
   "id": "585337dd-c1f6-4109-a0af-268a0e5648e9",
   "metadata": {},
   "outputs": [
    {
     "name": "stdout",
     "output_type": "stream",
     "text": [
      "The error is that `num2` has no value assigned to it.  You've declared the variable, but haven't given it anything to hold (like a number or another variable).  This leads to a `NameError` when the code tries to calculate the sum.\n",
      "\n",
      "\n",
      "Here are a few ways to fix it:\n",
      "\n",
      "**1. Assign a value to num2:**\n",
      "\n",
      "```python\n",
      "# values for num1 and num2\n",
      "num1 = 37\n",
      "num2 = 13  # Now num2 has a value\n",
      "\n",
      "# calculate the sum\n",
      "sum = num1 + num2\n",
      "\n",
      "# Display the result\n",
      "print(sum)\n",
      "```\n",
      "\n",
      "**2. Get the value of num2 as user input:**\n",
      "\n",
      "```python\n",
      "# value for num1\n",
      "num1 = 37\n",
      "\n",
      "# Get num2 from the user\n",
      "num2_str = input(\"Enter the value for num2: \")\n",
      "num2 = int(num2_str)  # Convert the input string to an integer\n",
      "\n",
      "\n",
      "# calculate the sum\n",
      "sum = num1 + num2\n",
      "\n",
      "# Display the result\n",
      "print(sum)\n",
      "```\n",
      "\n",
      "**3.  If num2 is intentionally meant to be 0:**\n",
      "\n",
      "```python\n",
      "# values for num1 and num2\n",
      "num1 = 37\n",
      "num2 = 0\n",
      "\n",
      "# calculate the sum\n",
      "sum = num1 + num2\n",
      "\n",
      "# Display the result\n",
      "print(sum)\n",
      "\n",
      "```\n",
      "\n",
      "\n",
      "It's important to initialize your variables before using them in calculations or other operations. Python needs to know what they represent. It's also good practice to use meaningful variable names (like `number1` or `value2`) instead of very generic names like `num1` and `num2` to improve code readability, especially in larger programs.  And avoid using built-in function names like `sum` as variable names; this can lead to confusion and errors.  You could use `total` or `the_sum` instead.\n",
      "\n"
     ]
    }
   ],
   "source": [
    "prompt = f\"\"\" \n",
    "What is wrong with this code, and how do I fix it?\n",
    "# values for num1 and num2\n",
    "num1 = 37\n",
    "num2 = \n",
    "\n",
    "# calculate the sum\n",
    "sum = num1 + num2\n",
    "\n",
    "# Display the result\n",
    "print(sum)\n",
    "\"\"\"\n",
    "\n",
    "response = model.generate_content(prompt)\n",
    "print(response.text)"
   ]
  },
  {
   "cell_type": "code",
   "execution_count": 20,
   "id": "c824a501-b7eb-4d6e-a3eb-5ba1383ab681",
   "metadata": {},
   "outputs": [
    {
     "name": "stdout",
     "output_type": "stream",
     "text": [
      "50\n"
     ]
    }
   ],
   "source": [
    "# values for num1 and num2\n",
    "num1 = 37\n",
    "num2 = 13  # Now num2 has a value\n",
    "\n",
    "# calculate the sum\n",
    "sum = num1 + num2\n",
    "\n",
    "# Display the result\n",
    "print(sum)"
   ]
  },
  {
   "cell_type": "code",
   "execution_count": null,
   "id": "817589bd-358c-4144-b097-05f31d58e880",
   "metadata": {},
   "outputs": [],
   "source": []
  }
 ],
 "metadata": {
  "kernelspec": {
   "display_name": "Python 3 (ipykernel)",
   "language": "python",
   "name": "python3"
  },
  "language_info": {
   "codemirror_mode": {
    "name": "ipython",
    "version": 3
   },
   "file_extension": ".py",
   "mimetype": "text/x-python",
   "name": "python",
   "nbconvert_exporter": "python",
   "pygments_lexer": "ipython3",
   "version": "3.11.2"
  }
 },
 "nbformat": 4,
 "nbformat_minor": 5
}
